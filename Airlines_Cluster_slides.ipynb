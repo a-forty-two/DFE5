{
  "cells": [
    {
      "cell_type": "markdown",
      "metadata": {
        "id": "view-in-github",
        "colab_type": "text"
      },
      "source": [
        "<a href=\"https://colab.research.google.com/github/daljit3/DFE5/blob/main/Airlines_Cluster_slides.ipynb\" target=\"_parent\"><img src=\"https://colab.research.google.com/assets/colab-badge.svg\" alt=\"Open In Colab\"/></a>"
      ]
    },
    {
      "cell_type": "code",
      "execution_count": null,
      "metadata": {
        "id": "WkRPFhHKEFbk"
      },
      "outputs": [],
      "source": [
        "import pandas as pd\n",
        "import matplotlib.pyplot as plt"
      ]
    },
    {
      "cell_type": "code",
      "execution_count": null,
      "metadata": {
        "scrolled": true,
        "id": "BB4Jbl3cEFbp"
      },
      "outputs": [],
      "source": [
        "dataset1 = pd.read_csv('AirlinesCluster.csv')"
      ]
    },
    {
      "cell_type": "markdown",
      "metadata": {
        "id": "PSvK32y5EFbq"
      },
      "source": [
        "### Data Understanding"
      ]
    },
    {
      "cell_type": "code",
      "execution_count": null,
      "metadata": {
        "id": "iWLFqs3pEFbr",
        "outputId": "5701bcb4-ca75-430c-f560-2dbcc10845b8"
      },
      "outputs": [
        {
          "data": {
            "text/html": [
              "<div>\n",
              "<style scoped>\n",
              "    .dataframe tbody tr th:only-of-type {\n",
              "        vertical-align: middle;\n",
              "    }\n",
              "\n",
              "    .dataframe tbody tr th {\n",
              "        vertical-align: top;\n",
              "    }\n",
              "\n",
              "    .dataframe thead th {\n",
              "        text-align: right;\n",
              "    }\n",
              "</style>\n",
              "<table border=\"1\" class=\"dataframe\">\n",
              "  <thead>\n",
              "    <tr style=\"text-align: right;\">\n",
              "      <th></th>\n",
              "      <th>0</th>\n",
              "      <th>1</th>\n",
              "      <th>2</th>\n",
              "      <th>3</th>\n",
              "      <th>4</th>\n",
              "    </tr>\n",
              "  </thead>\n",
              "  <tbody>\n",
              "    <tr>\n",
              "      <th>Balance</th>\n",
              "      <td>28143</td>\n",
              "      <td>19244</td>\n",
              "      <td>41354</td>\n",
              "      <td>14776</td>\n",
              "      <td>97752</td>\n",
              "    </tr>\n",
              "    <tr>\n",
              "      <th>QualMiles</th>\n",
              "      <td>0</td>\n",
              "      <td>0</td>\n",
              "      <td>0</td>\n",
              "      <td>0</td>\n",
              "      <td>0</td>\n",
              "    </tr>\n",
              "    <tr>\n",
              "      <th>BonusMiles</th>\n",
              "      <td>174</td>\n",
              "      <td>215</td>\n",
              "      <td>4123</td>\n",
              "      <td>500</td>\n",
              "      <td>43300</td>\n",
              "    </tr>\n",
              "    <tr>\n",
              "      <th>BonusTrans</th>\n",
              "      <td>1</td>\n",
              "      <td>2</td>\n",
              "      <td>4</td>\n",
              "      <td>1</td>\n",
              "      <td>26</td>\n",
              "    </tr>\n",
              "    <tr>\n",
              "      <th>FlightMiles</th>\n",
              "      <td>0</td>\n",
              "      <td>0</td>\n",
              "      <td>0</td>\n",
              "      <td>0</td>\n",
              "      <td>2077</td>\n",
              "    </tr>\n",
              "    <tr>\n",
              "      <th>FlightTrans</th>\n",
              "      <td>0</td>\n",
              "      <td>0</td>\n",
              "      <td>0</td>\n",
              "      <td>0</td>\n",
              "      <td>4</td>\n",
              "    </tr>\n",
              "    <tr>\n",
              "      <th>DaysSinceEnroll</th>\n",
              "      <td>7000</td>\n",
              "      <td>6968</td>\n",
              "      <td>7034</td>\n",
              "      <td>6952</td>\n",
              "      <td>6935</td>\n",
              "    </tr>\n",
              "  </tbody>\n",
              "</table>\n",
              "</div>"
            ],
            "text/plain": [
              "                     0      1      2      3      4\n",
              "Balance          28143  19244  41354  14776  97752\n",
              "QualMiles            0      0      0      0      0\n",
              "BonusMiles         174    215   4123    500  43300\n",
              "BonusTrans           1      2      4      1     26\n",
              "FlightMiles          0      0      0      0   2077\n",
              "FlightTrans          0      0      0      0      4\n",
              "DaysSinceEnroll   7000   6968   7034   6952   6935"
            ]
          },
          "execution_count": 3,
          "metadata": {},
          "output_type": "execute_result"
        }
      ],
      "source": [
        "# peeking at the dataset\n",
        "dataset1.head().T"
      ]
    },
    {
      "cell_type": "code",
      "execution_count": null,
      "metadata": {
        "scrolled": true,
        "id": "_cJizXz4EFbs",
        "outputId": "a59c4904-baf3-45cc-bc84-7b75493898e1"
      },
      "outputs": [
        {
          "data": {
            "text/html": [
              "<div>\n",
              "<style scoped>\n",
              "    .dataframe tbody tr th:only-of-type {\n",
              "        vertical-align: middle;\n",
              "    }\n",
              "\n",
              "    .dataframe tbody tr th {\n",
              "        vertical-align: top;\n",
              "    }\n",
              "\n",
              "    .dataframe thead th {\n",
              "        text-align: right;\n",
              "    }\n",
              "</style>\n",
              "<table border=\"1\" class=\"dataframe\">\n",
              "  <thead>\n",
              "    <tr style=\"text-align: right;\">\n",
              "      <th></th>\n",
              "      <th>Balance</th>\n",
              "      <th>QualMiles</th>\n",
              "      <th>BonusMiles</th>\n",
              "      <th>BonusTrans</th>\n",
              "      <th>FlightMiles</th>\n",
              "      <th>FlightTrans</th>\n",
              "      <th>DaysSinceEnroll</th>\n",
              "    </tr>\n",
              "  </thead>\n",
              "  <tbody>\n",
              "    <tr>\n",
              "      <th>count</th>\n",
              "      <td>3.999000e+03</td>\n",
              "      <td>3999.000000</td>\n",
              "      <td>3999.000000</td>\n",
              "      <td>3999.00000</td>\n",
              "      <td>3999.000000</td>\n",
              "      <td>3999.000000</td>\n",
              "      <td>3999.00000</td>\n",
              "    </tr>\n",
              "    <tr>\n",
              "      <th>mean</th>\n",
              "      <td>7.360133e+04</td>\n",
              "      <td>144.114529</td>\n",
              "      <td>17144.846212</td>\n",
              "      <td>11.60190</td>\n",
              "      <td>460.055764</td>\n",
              "      <td>1.373593</td>\n",
              "      <td>4118.55939</td>\n",
              "    </tr>\n",
              "    <tr>\n",
              "      <th>std</th>\n",
              "      <td>1.007757e+05</td>\n",
              "      <td>773.663804</td>\n",
              "      <td>24150.967826</td>\n",
              "      <td>9.60381</td>\n",
              "      <td>1400.209171</td>\n",
              "      <td>3.793172</td>\n",
              "      <td>2065.13454</td>\n",
              "    </tr>\n",
              "    <tr>\n",
              "      <th>min</th>\n",
              "      <td>0.000000e+00</td>\n",
              "      <td>0.000000</td>\n",
              "      <td>0.000000</td>\n",
              "      <td>0.00000</td>\n",
              "      <td>0.000000</td>\n",
              "      <td>0.000000</td>\n",
              "      <td>2.00000</td>\n",
              "    </tr>\n",
              "    <tr>\n",
              "      <th>25%</th>\n",
              "      <td>1.852750e+04</td>\n",
              "      <td>0.000000</td>\n",
              "      <td>1250.000000</td>\n",
              "      <td>3.00000</td>\n",
              "      <td>0.000000</td>\n",
              "      <td>0.000000</td>\n",
              "      <td>2330.00000</td>\n",
              "    </tr>\n",
              "    <tr>\n",
              "      <th>50%</th>\n",
              "      <td>4.309700e+04</td>\n",
              "      <td>0.000000</td>\n",
              "      <td>7171.000000</td>\n",
              "      <td>12.00000</td>\n",
              "      <td>0.000000</td>\n",
              "      <td>0.000000</td>\n",
              "      <td>4096.00000</td>\n",
              "    </tr>\n",
              "    <tr>\n",
              "      <th>75%</th>\n",
              "      <td>9.240400e+04</td>\n",
              "      <td>0.000000</td>\n",
              "      <td>23800.500000</td>\n",
              "      <td>17.00000</td>\n",
              "      <td>311.000000</td>\n",
              "      <td>1.000000</td>\n",
              "      <td>5790.50000</td>\n",
              "    </tr>\n",
              "    <tr>\n",
              "      <th>max</th>\n",
              "      <td>1.704838e+06</td>\n",
              "      <td>11148.000000</td>\n",
              "      <td>263685.000000</td>\n",
              "      <td>86.00000</td>\n",
              "      <td>30817.000000</td>\n",
              "      <td>53.000000</td>\n",
              "      <td>8296.00000</td>\n",
              "    </tr>\n",
              "  </tbody>\n",
              "</table>\n",
              "</div>"
            ],
            "text/plain": [
              "            Balance     QualMiles     BonusMiles  BonusTrans   FlightMiles  \\\n",
              "count  3.999000e+03   3999.000000    3999.000000  3999.00000   3999.000000   \n",
              "mean   7.360133e+04    144.114529   17144.846212    11.60190    460.055764   \n",
              "std    1.007757e+05    773.663804   24150.967826     9.60381   1400.209171   \n",
              "min    0.000000e+00      0.000000       0.000000     0.00000      0.000000   \n",
              "25%    1.852750e+04      0.000000    1250.000000     3.00000      0.000000   \n",
              "50%    4.309700e+04      0.000000    7171.000000    12.00000      0.000000   \n",
              "75%    9.240400e+04      0.000000   23800.500000    17.00000    311.000000   \n",
              "max    1.704838e+06  11148.000000  263685.000000    86.00000  30817.000000   \n",
              "\n",
              "       FlightTrans  DaysSinceEnroll  \n",
              "count  3999.000000       3999.00000  \n",
              "mean      1.373593       4118.55939  \n",
              "std       3.793172       2065.13454  \n",
              "min       0.000000          2.00000  \n",
              "25%       0.000000       2330.00000  \n",
              "50%       0.000000       4096.00000  \n",
              "75%       1.000000       5790.50000  \n",
              "max      53.000000       8296.00000  "
            ]
          },
          "execution_count": 4,
          "metadata": {},
          "output_type": "execute_result"
        }
      ],
      "source": [
        "#Descriptive stats of the variables in data\n",
        "dataset1.describe()"
      ]
    },
    {
      "cell_type": "markdown",
      "metadata": {
        "id": "4AQ5F8F6EFbt"
      },
      "source": [
        "- Balance = number of miles eligible for award travel\n",
        "- QualMiles = number of miles qualifying for TopFlight status\n",
        "- BonusMiles = number of miles earned from non-flight bonus transactions in the past 12 months\n",
        "- BonusTrans = number of non-flight bonus transactions in the past 12 months\n",
        "- FlightMiles = number of flight miles in the past 12 months\n",
        "- FlightTrans = number of flight transactions in the past 12 months\n",
        "- DaysSinceEnroll = number of days since enrolled in the frequent flyer program"
      ]
    },
    {
      "cell_type": "markdown",
      "metadata": {
        "id": "vV1svmdfEFbu"
      },
      "source": [
        "### Data Preparation - Feature Scaling"
      ]
    },
    {
      "cell_type": "markdown",
      "metadata": {
        "id": "yyJE2L5HEFbv"
      },
      "source": [
        "- Algorithm Families:\n",
        "    - linear and logistic regression\n",
        "    - nearest neighbors\n",
        "    - neural networks\n",
        "    - support vector machines with radial bias kernel functions\n",
        "    - principal components analysis\n",
        "    - linear discriminant analysis"
      ]
    },
    {
      "cell_type": "markdown",
      "metadata": {
        "id": "zhu9gkPaEFbv"
      },
      "source": [
        "### Pre-processing functions:"
      ]
    },
    {
      "cell_type": "markdown",
      "metadata": {
        "id": "rM7To6hTEFbw"
      },
      "source": [
        "- MinMaxScaler\n",
        "    - Use first unless have theoretical reason to need stronger medicine.\n",
        "    - Preserves the shape of the original distribution.\n",
        "    - Doesn't reduce the importance of outliers. \n",
        "    - Least disruptive to the information in the original data. \n",
        "    - Default range for MinMaxScaler is 0 to 1. "
      ]
    },
    {
      "cell_type": "markdown",
      "metadata": {
        "id": "8tydvBFTEFbx"
      },
      "source": [
        "- RobustScaler\n",
        "    - Use if have outliers and don't want them to have much influence. \n",
        "    - Outliers have less influence than with MinMaxScaler. \n",
        "    - Range is larger than MinMaxScaler or StandardScaler."
      ]
    },
    {
      "cell_type": "markdown",
      "metadata": {
        "id": "HD_hCALSEFbx"
      },
      "source": [
        "- StandardScaler\n",
        "    - When need to transform a feature so it is close to normally distributed.\n",
        "    - Results in a distribution with a standard deviation equal to 1 (and variance equal to 1). \n",
        "    - If you have outliers in your feature (column), normalizing your data will scale most of the data to a small interval. "
      ]
    },
    {
      "cell_type": "markdown",
      "metadata": {
        "id": "iCF-FQvdEFby"
      },
      "source": [
        "- Normalizer\n",
        "    - Normalizes each sample observation (row), not the feature (column)!"
      ]
    },
    {
      "cell_type": "code",
      "execution_count": null,
      "metadata": {
        "id": "T05BzPefEFby"
      },
      "outputs": [],
      "source": [
        "#standardize the data to normal distribution\n",
        "from sklearn import preprocessing\n",
        "dataset1_standardized = preprocessing.scale(dataset1)\n",
        "dataset1_standardized = pd.DataFrame(dataset1_standardized)"
      ]
    },
    {
      "cell_type": "markdown",
      "metadata": {
        "id": "_1sWdBz0EFby"
      },
      "source": [
        "### Find the appropriate cluster number"
      ]
    },
    {
      "cell_type": "code",
      "execution_count": null,
      "metadata": {
        "id": "bdOTcUQWEFbz",
        "outputId": "7d654cb1-e101-4bdd-ca4e-8fed91575206"
      },
      "outputs": [
        {
          "data": {
            "image/png": "[encoded data removed]",
            "text/plain": [
              "<Figure size 720x576 with 1 Axes>"
            ]
          },
          "metadata": {
            "needs_background": "light"
          },
          "output_type": "display_data"
        }
      ],
      "source": [
        "plt.figure(figsize=(10, 8))\n",
        "from sklearn.cluster import KMeans\n",
        "#Within-Cluster-Sum-of-Squares = sum of distances of observations from their cluster centroids\n",
        "wcss = []\n",
        "for i in range(1, 11):\n",
        "    kmeans = KMeans(n_clusters = i, init = 'k-means++', random_state = 42)\n",
        "    kmeans.fit(dataset1_standardized)\n",
        "    wcss.append(kmeans.inertia_)\n",
        "plt.plot(range(1, 11), wcss)\n",
        "plt.title('The Elbow Method')\n",
        "plt.xlabel('Number of clusters')\n",
        "plt.ylabel('WCSS')\n",
        "plt.show()"
      ]
    },
    {
      "cell_type": "markdown",
      "metadata": {
        "id": "iiSZWk7wEFbz"
      },
      "source": [
        "### K Means Clustering"
      ]
    },
    {
      "cell_type": "code",
      "execution_count": null,
      "metadata": {
        "scrolled": true,
        "id": "lTMI8sagEFbz",
        "outputId": "6746591e-5a85-4dc4-f2d0-bb7ca6d3d6c1"
      },
      "outputs": [
        {
          "data": {
            "text/html": [
              "<div>\n",
              "<style scoped>\n",
              "    .dataframe tbody tr th:only-of-type {\n",
              "        vertical-align: middle;\n",
              "    }\n",
              "\n",
              "    .dataframe tbody tr th {\n",
              "        vertical-align: top;\n",
              "    }\n",
              "\n",
              "    .dataframe thead th {\n",
              "        text-align: right;\n",
              "    }\n",
              "</style>\n",
              "<table border=\"1\" class=\"dataframe\">\n",
              "  <thead>\n",
              "    <tr style=\"text-align: right;\">\n",
              "      <th></th>\n",
              "      <th>Balance</th>\n",
              "      <th>QualMiles</th>\n",
              "      <th>BonusMiles</th>\n",
              "      <th>BonusTrans</th>\n",
              "      <th>FlightMiles</th>\n",
              "      <th>FlightTrans</th>\n",
              "      <th>DaysSinceEnroll</th>\n",
              "    </tr>\n",
              "    <tr>\n",
              "      <th>cluster</th>\n",
              "      <th></th>\n",
              "      <th></th>\n",
              "      <th></th>\n",
              "      <th></th>\n",
              "      <th></th>\n",
              "      <th></th>\n",
              "      <th></th>\n",
              "    </tr>\n",
              "  </thead>\n",
              "  <tbody>\n",
              "    <tr>\n",
              "      <th>1</th>\n",
              "      <td>152724.4</td>\n",
              "      <td>77.9</td>\n",
              "      <td>50999.4</td>\n",
              "      <td>21.3</td>\n",
              "      <td>479.4</td>\n",
              "      <td>1.5</td>\n",
              "      <td>4912.2</td>\n",
              "    </tr>\n",
              "    <tr>\n",
              "      <th>2</th>\n",
              "      <td>116472.4</td>\n",
              "      <td>5636.3</td>\n",
              "      <td>19804.3</td>\n",
              "      <td>12.5</td>\n",
              "      <td>963.0</td>\n",
              "      <td>2.9</td>\n",
              "      <td>3950.6</td>\n",
              "    </tr>\n",
              "    <tr>\n",
              "      <th>3</th>\n",
              "      <td>57410.4</td>\n",
              "      <td>53.4</td>\n",
              "      <td>8738.5</td>\n",
              "      <td>9.1</td>\n",
              "      <td>213.4</td>\n",
              "      <td>0.6</td>\n",
              "      <td>5828.1</td>\n",
              "    </tr>\n",
              "    <tr>\n",
              "      <th>4</th>\n",
              "      <td>191736.3</td>\n",
              "      <td>471.6</td>\n",
              "      <td>33093.3</td>\n",
              "      <td>28.4</td>\n",
              "      <td>5763.1</td>\n",
              "      <td>16.8</td>\n",
              "      <td>4666.4</td>\n",
              "    </tr>\n",
              "    <tr>\n",
              "      <th>5</th>\n",
              "      <td>38180.1</td>\n",
              "      <td>39.4</td>\n",
              "      <td>6734.2</td>\n",
              "      <td>7.6</td>\n",
              "      <td>180.0</td>\n",
              "      <td>0.6</td>\n",
              "      <td>2283.7</td>\n",
              "    </tr>\n",
              "  </tbody>\n",
              "</table>\n",
              "</div>"
            ],
            "text/plain": [
              "          Balance  QualMiles  BonusMiles  BonusTrans  FlightMiles  \\\n",
              "cluster                                                             \n",
              "1        152724.4       77.9     50999.4        21.3        479.4   \n",
              "2        116472.4     5636.3     19804.3        12.5        963.0   \n",
              "3         57410.4       53.4      8738.5         9.1        213.4   \n",
              "4        191736.3      471.6     33093.3        28.4       5763.1   \n",
              "5         38180.1       39.4      6734.2         7.6        180.0   \n",
              "\n",
              "         FlightTrans  DaysSinceEnroll  \n",
              "cluster                                \n",
              "1                1.5           4912.2  \n",
              "2                2.9           3950.6  \n",
              "3                0.6           5828.1  \n",
              "4               16.8           4666.4  \n",
              "5                0.6           2283.7  "
            ]
          },
          "execution_count": 7,
          "metadata": {},
          "output_type": "execute_result"
        }
      ],
      "source": [
        "# Fitting K-Means to the dataset\n",
        "kmeans = KMeans(n_clusters = 5, init = 'k-means++', random_state = 42)\n",
        "y_kmeans = kmeans.fit_predict(dataset1_standardized)\n",
        "#beginning of  the cluster numbering with 1 instead of 0\n",
        "y_kmeans1=y_kmeans\n",
        "y_kmeans1=y_kmeans+1\n",
        "# New Dataframe called cluster\n",
        "cluster = pd.DataFrame(y_kmeans1)\n",
        "# Adding cluster to the Dataset1\n",
        "dataset1['cluster'] = cluster\n",
        "#Mean of clusters\n",
        "kmeans_mean_cluster = pd.DataFrame(round(dataset1.groupby('cluster').mean(),1))\n",
        "kmeans_mean_cluster"
      ]
    },
    {
      "cell_type": "code",
      "execution_count": null,
      "metadata": {
        "scrolled": true,
        "id": "LZYaEbFKEFb0",
        "outputId": "581b1149-b754-45b9-a266-a1899e9164eb"
      },
      "outputs": [
        {
          "data": {
            "text/plain": [
              "<matplotlib.collections.PathCollection at 0x1dcab895e48>"
            ]
          },
          "execution_count": 8,
          "metadata": {},
          "output_type": "execute_result"
        },
        {
          "data": {
            "image/png": "[encoded data removed]",
            "text/plain": [
              "<Figure size 720x576 with 1 Axes>"
            ]
          },
          "metadata": {
            "needs_background": "light"
          },
          "output_type": "display_data"
        }
      ],
      "source": [
        "plt.figure(figsize=(10, 8))\n",
        "plt.scatter(dataset1_standardized.iloc[:,0], dataset1_standardized.iloc[:,1], c=y_kmeans.astype(float), cmap='prism')"
      ]
    },
    {
      "cell_type": "markdown",
      "metadata": {
        "id": "lISEsIF0EFb0"
      },
      "source": [
        "### Insights and Plan of Action:"
      ]
    },
    {
      "cell_type": "markdown",
      "metadata": {
        "id": "BgQ1NwMkEFb1"
      },
      "source": [
        "- Cluster 5 is set of the recently acquired customer group as the Days since enrollment is lowest , moreover their flight transactions in last 12 months as well as the qualified miles for top class travel is the lowest.\n",
        "- Cluster 3 is the set of high vintage customers who have highest number of non-flight bonus transaction miles and highest miles eligible for award travel\n",
        "- Cluster 4 is also high vintage customers however their number of flight miles and flight transactions in last 12 months is alarmingly low, they may churn unless some intervention is done. Bespoke offers to activate these customers is necessary\n",
        "- Cluster 2 is group of customers who have done highest number of flight transactions and acquired flight miles in last 12 months. Investigate further and identify their needs. For Eg: They may be baby boomers generation who have begun to travel around after their retirement etc."
      ]
    }
  ],
  "metadata": {
    "celltoolbar": "Slideshow",
    "kernelspec": {
      "display_name": "Python 3",
      "language": "python",
      "name": "python3"
    },
    "language_info": {
      "codemirror_mode": {
        "name": "ipython",
        "version": 3
      },
      "file_extension": ".py",
      "mimetype": "text/x-python",
      "name": "python",
      "nbconvert_exporter": "python",
      "pygments_lexer": "ipython3",
      "version": "3.7.4"
    },
    "colab": {
      "name": "Airlines-Cluster-slides.ipynb",
      "provenance": [],
      "include_colab_link": true
    }
  },
  "nbformat": 4,
  "nbformat_minor": 0
}